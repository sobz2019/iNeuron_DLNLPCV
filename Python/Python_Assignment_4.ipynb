{
 "cells": [
  {
   "cell_type": "markdown",
   "metadata": {},
   "source": [
    "1.1 Write a Python Program(with class concepts) to find the area of the triangle using the below\n",
    "formula.\n",
    "\n",
    "**area = (s*(s-a)*(s-b)*(s-c)) ** 0.5**\n",
    "\n",
    "Function to take the length of the sides of triangle from user should be defined in the parent\n",
    "class and function to calculate the area should be defined in subclass"
   ]
  },
  {
   "cell_type": "code",
   "execution_count": 6,
   "metadata": {},
   "outputs": [
    {
     "name": "stdout",
     "output_type": "stream",
     "text": [
      "Enter the first side of the triangle:3\n",
      "Enter the Second side of the triangle:4\n",
      "Enter the Third side of the triangle:5\n",
      "Area of the triangle is  6.0\n"
     ]
    }
   ],
   "source": [
    "# Create Parent class \n",
    "class triangle():\n",
    "    def __init__(self,a,b,c):\n",
    "        self.a=a\n",
    "        self.b=b\n",
    "        self.c=c\n",
    "# Create Child Class\n",
    "class  AreaTr(triangle):\n",
    "    def area(self):\n",
    "        s = (self.a + self.b + self.c)/2\n",
    "        ar = (s * (s-self.a)*(s-self.b)*(s-self.c)) ** 0.5\n",
    "        return ar\n",
    "\n",
    "a = float(input(\"Enter the first side of the triangle:\"))\n",
    "b = float(input(\"Enter the Second side of the triangle:\"))\n",
    "c = float(input(\"Enter the Third side of the triangle:\"))\n",
    "first_triangle = AreaTr(a,b,c)\n",
    "Area=first_triangle.area()\n",
    "print('Area of the triangle is ',Area)"
   ]
  },
  {
   "cell_type": "markdown",
   "metadata": {},
   "source": [
    "1.2 Write a function filter_long_words() that takes a list of words and an integer n and returns\n",
    "the list of words that are longer than n."
   ]
  },
  {
   "cell_type": "code",
   "execution_count": 7,
   "metadata": {},
   "outputs": [
    {
     "name": "stdout",
     "output_type": "stream",
     "text": [
      "Input:\n",
      "Please enter your words: Sobin Is good man\n",
      "Please enter your number: 3\n",
      "\n",
      " Output:\n",
      "\n",
      " The List of longest words , which  are longer than 3 is :\n"
     ]
    },
    {
     "data": {
      "text/plain": [
       "['Sobin Is good man']"
      ]
     },
     "execution_count": 7,
     "metadata": {},
     "output_type": "execute_result"
    }
   ],
   "source": [
    "#Function to Filter words based on length\n",
    "def filter_long_words(WordList,n):\n",
    "    ''' This function returns list of words are longer than Argument n . \n",
    "    Note : n has been considerd has an integer'''\n",
    "    \n",
    "    #List Comprehensions\n",
    "    Wordlist=[x.strip() for x in WordList if len(x.strip())>n]\n",
    "    \n",
    "    if(len(Wordlist)>0):\n",
    "        print(\"\\n Output:\")\n",
    "        print(\"\\n The List of longest words , which  are longer than \"+str(n)+\" is :\")\n",
    "        return Wordlist\n",
    "    else:\n",
    "        return \"No Words longer than specified number \"+str(n)\n",
    "    \n",
    "#Ask user's Input\n",
    "print(\"Input:\")\n",
    "string= input(\"Please enter your words: \")\n",
    "number= int(input(\"Please enter your number: \"))\n",
    "\n",
    "# Split the words by \",\" comma and convert into list\n",
    "list_Of_Words = list(string.split(\",\"))\n",
    "#Function Execution\n",
    "filter_long_words(list_Of_Words,number)"
   ]
  },
  {
   "cell_type": "markdown",
   "metadata": {},
   "source": [
    "2.1 Write a Python program using function concept that maps list of words into a list of integers\n",
    "representing the lengths of the corresponding words.\n",
    "\n",
    "**Hint:** If a list [ ab,cde,erty] is passed on to the python function output should come as [2,3,4]\n",
    "Here 2,3 and 4 are the lengths of the words in the list."
   ]
  },
  {
   "cell_type": "code",
   "execution_count": 25,
   "metadata": {},
   "outputs": [
    {
     "name": "stdout",
     "output_type": "stream",
     "text": [
      "Input : Please enter Words : Sobin,Babu,Son\n",
      "Output: Length of Words are : [5, 4, 3]\n"
     ]
    }
   ],
   "source": [
    "def map_to_lengths_for(words): \n",
    "    return list(map(len, words))\n",
    "\n",
    "word_List=list(input(\"Input : Please enter Words : \").split(\",\"))\n",
    "\n",
    "#Using List Comprehension to remove white trailing spaces\n",
    "List=[x.strip() for x in word_List]\n",
    "\n",
    "#function Execution\n",
    "Words_lengths=map_to_lengths_for(List)\n",
    "\n",
    "print(\"Output: Length of Words are :\",Words_lengths )"
   ]
  },
  {
   "cell_type": "markdown",
   "metadata": {},
   "source": [
    "2.2 Write a Python function which takes a character (i.e. a string of length 1) and returns True if\n",
    "it is a vowel, False otherwise"
   ]
  },
  {
   "cell_type": "code",
   "execution_count": 5,
   "metadata": {},
   "outputs": [
    {
     "name": "stdout",
     "output_type": "stream",
     "text": [
      "\n",
      "\n",
      "Enter a single character to check that it is Vowel or not\n",
      "\bInput Value: A\n",
      "Thanks, The Given Value  A is a vowel\n",
      "Output Value: True\n"
     ]
    }
   ],
   "source": [
    "def check_vowel():\n",
    "    #docstring\n",
    "    '''This function will return True/False based upon input character provided by user'''\n",
    "    return_value=''\n",
    "    \n",
    "    while True:\n",
    "        #Ask user's Input\n",
    "        print('\\n')\n",
    "        print(\"Enter a single character to check that it is Vowel or not\")\n",
    "        inputChar = input(\"Input Value: \")\n",
    "        \n",
    "        try:\n",
    "            if(len(inputChar)==1):\n",
    "                vowel_list=['a','e','i','o','u']\n",
    "                if (inputChar.lower() in vowel_list):\n",
    "                    return_value= True\n",
    "                else:\n",
    "                    return_value= False\n",
    "            else:\n",
    "                raise ValueError\n",
    "        except ValueError:\n",
    "            print(\"Oops!  That was not a valid number or a single character.  Try again...\")\n",
    "        else:\n",
    "            if(return_value== True):\n",
    "                print('Thanks, The Given Value ',inputChar,'is a vowel')\n",
    "            else:\n",
    "                print('Sorry, The Given Value ',inputChar,'is not a vowel')\n",
    "            \n",
    "            break\n",
    "        \n",
    "    return return_value\n",
    "\n",
    "\n",
    "#Function Execution\n",
    "output_value=check_vowel() \n",
    "#Output\n",
    "print(\"Output Value:\",output_value)"
   ]
  },
  {
   "cell_type": "code",
   "execution_count": null,
   "metadata": {},
   "outputs": [],
   "source": []
  },
  {
   "cell_type": "code",
   "execution_count": null,
   "metadata": {},
   "outputs": [],
   "source": []
  }
 ],
 "metadata": {
  "kernelspec": {
   "display_name": "Python 3",
   "language": "python",
   "name": "python3"
  },
  "language_info": {
   "codemirror_mode": {
    "name": "ipython",
    "version": 3
   },
   "file_extension": ".py",
   "mimetype": "text/x-python",
   "name": "python",
   "nbconvert_exporter": "python",
   "pygments_lexer": "ipython3",
   "version": "3.6.10"
  }
 },
 "nbformat": 4,
 "nbformat_minor": 4
}
